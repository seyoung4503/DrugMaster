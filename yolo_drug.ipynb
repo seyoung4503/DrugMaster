{
 "cells": [
  {
   "cell_type": "code",
   "execution_count": 1,
   "metadata": {},
   "outputs": [],
   "source": [
    "import torch"
   ]
  },
  {
   "cell_type": "code",
   "execution_count": 2,
   "metadata": {},
   "outputs": [
    {
     "name": "stdout",
     "output_type": "stream",
     "text": [
      "현재 작업 디렉토리: /Users/seyeong/workspace/backend_drugmaster/drugmaster\n"
     ]
    }
   ],
   "source": [
    "import os\n",
    "\n",
    "current_directory = os.getcwd()\n",
    "print(f\"현재 작업 디렉토리: {current_directory}\")\n",
    "# 노인 약 문제 -> 다제약물 -> 어려움 -> 그래서 이걸 함 -> 이걸 하면 다양한 분야에서 도움이 된다.\n",
    "# ai로 약물 판독 서비스 찾아보기"
   ]
  },
  {
   "cell_type": "code",
   "execution_count": 3,
   "metadata": {},
   "outputs": [
    {
     "name": "stderr",
     "output_type": "stream",
     "text": [
      "Using cache found in /Users/seyeong/.cache/torch/hub/ultralytics_yolov5_master\n",
      "YOLOv5 🚀 2024-8-24 Python-3.10.14 torch-2.4.0 CPU\n",
      "\n",
      "Fusing layers... \n",
      "YOLOv5s summary: 157 layers, 7072156 parameters, 0 gradients, 15.9 GFLOPs\n",
      "Adding AutoShape... \n",
      "/Users/seyeong/.cache/torch/hub/ultralytics_yolov5_master/models/common.py:869: FutureWarning: `torch.cuda.amp.autocast(args...)` is deprecated. Please use `torch.amp.autocast('cuda', args...)` instead.\n",
      "  with amp.autocast(autocast):\n"
     ]
    }
   ],
   "source": [
    "model = torch.hub.load('ultralytics/yolov5', 'custom', path='./yolov5/best.pt')\n",
    "result = model('./yolo_test/val2.png')"
   ]
  },
  {
   "cell_type": "code",
   "execution_count": 4,
   "metadata": {},
   "outputs": [
    {
     "data": {
      "text/plain": [
       "YOLOv5 <class 'models.common.Detections'> instance\n",
       "image 1/1: 6400x6400 1 경동파니틴정, 1 뉴글리아정, 1 듀오스타정, 1 멀티큐텐플러스정, 1 웰러드연질캡슐, 1 카나가바로틴캡슐\n",
       "Speed: 400.6ms pre-process, 94.8ms inference, 3.6ms NMS per image at shape (1, 3, 640, 640)"
      ]
     },
     "execution_count": 4,
     "metadata": {},
     "output_type": "execute_result"
    }
   ],
   "source": [
    "result"
   ]
  },
  {
   "cell_type": "code",
   "execution_count": 5,
   "metadata": {},
   "outputs": [
    {
     "name": "stdout",
     "output_type": "stream",
     "text": [
      "\u001b[34m\u001b[1mdetect: \u001b[0mweights=['./yolov5/best.pt'], source=./yolo_test/val4.png, data=yolov5/data/coco128.yaml, imgsz=[640, 640], conf_thres=0.25, iou_thres=0.45, max_det=1000, device=, view_img=False, save_txt=False, save_csv=False, save_conf=False, save_crop=False, nosave=False, classes=None, agnostic_nms=False, augment=False, visualize=False, update=False, project=yolov5/runs/detect, name=exp, exist_ok=False, line_thickness=3, hide_labels=False, hide_conf=False, half=False, dnn=False, vid_stride=1\n",
      "YOLOv5 🚀 v7.0-356-g2070b303 Python-3.10.14 torch-2.4.0 CPU\n",
      "\n",
      "Fusing layers... \n",
      "YOLOv5s summary: 157 layers, 7072156 parameters, 0 gradients, 15.9 GFLOPs\n",
      "image 1/1 /Users/seyeong/workspace/backend_drugmaster/drugmaster/yolo_test/val4.png: 640x640 1 경동파니틴정, 1 동성라베프라졸정, 1 멀티큐텐플러스정, 1 세바코에이치씨티정10, 1 티뮤즈연질캡슐, 99.7ms\n",
      "Speed: 0.6ms pre-process, 99.7ms inference, 0.6ms NMS per image at shape (1, 3, 640, 640)\n",
      "Results saved to \u001b[1myolov5/runs/detect/exp4\u001b[0m\n"
     ]
    }
   ],
   "source": [
    "if True:\n",
    "    !python ./yolov5/detect.py --weights ./yolov5/best.pt --img 640 --conf 0.25 --source ./yolo_test/val4.png\n",
    "    pass"
   ]
  },
  {
   "cell_type": "code",
   "execution_count": 32,
   "metadata": {},
   "outputs": [
    {
     "name": "stdout",
     "output_type": "stream",
     "text": [
      "CompletedProcess(args=['python', './yolov5/detect.py', '--weights', './yolov5/best.pt', '--img', '640', '--conf', '0.25', '--source', './yolo_test/val4.png'], returncode=0, stdout='', stderr=\"\\x1b[34m\\x1b[1mdetect: \\x1b[0mweights=['./yolov5/best.pt'], source=./yolo_test/val4.png, data=yolov5/data/coco128.yaml, imgsz=[640, 640], conf_thres=0.25, iou_thres=0.45, max_det=1000, device=, view_img=False, save_txt=False, save_csv=False, save_conf=False, save_crop=False, nosave=False, classes=None, agnostic_nms=False, augment=False, visualize=False, update=False, project=yolov5/runs/detect, name=exp, exist_ok=False, line_thickness=3, hide_labels=False, hide_conf=False, half=False, dnn=False, vid_stride=1\\nYOLOv5 🚀 v7.0-356-g2070b303 Python-3.10.14 torch-2.4.0 CPU\\n\\nFusing layers... \\nYOLOv5s summary: 157 layers, 7072156 parameters, 0 gradients, 15.9 GFLOPs\\nimage 1/1 /Users/seyeong/workspace/backend_drugmaster/drugmaster/yolo_test/val4.png: 640x640 1 경동파니틴정, 1 동성라베프라졸정, 1 멀티큐텐플러스정, 1 세바코에이치씨티정10, 1 티뮤즈연질캡슐, 90.3ms\\nSpeed: 0.6ms pre-process, 90.3ms inference, 0.6ms NMS per image at shape (1, 3, 640, 640)\\nResults saved to \\x1b[1myolov5/runs/detect/exp5\\x1b[0m\\n\")\n",
      "표준 출력: \n",
      "표준 오류: \u001b[34m\u001b[1mdetect: \u001b[0mweights=['./yolov5/best.pt'], source=./yolo_test/val4.png, data=yolov5/data/coco128.yaml, imgsz=[640, 640], conf_thres=0.25, iou_thres=0.45, max_det=1000, device=, view_img=False, save_txt=False, save_csv=False, save_conf=False, save_crop=False, nosave=False, classes=None, agnostic_nms=False, augment=False, visualize=False, update=False, project=yolov5/runs/detect, name=exp, exist_ok=False, line_thickness=3, hide_labels=False, hide_conf=False, half=False, dnn=False, vid_stride=1\n",
      "YOLOv5 🚀 v7.0-356-g2070b303 Python-3.10.14 torch-2.4.0 CPU\n",
      "\n",
      "Fusing layers... \n",
      "YOLOv5s summary: 157 layers, 7072156 parameters, 0 gradients, 15.9 GFLOPs\n",
      "image 1/1 /Users/seyeong/workspace/backend_drugmaster/drugmaster/yolo_test/val4.png: 640x640 1 경동파니틴정, 1 동성라베프라졸정, 1 멀티큐텐플러스정, 1 세바코에이치씨티정10, 1 티뮤즈연질캡슐, 90.3ms\n",
      "Speed: 0.6ms pre-process, 90.3ms inference, 0.6ms NMS per image at shape (1, 3, 640, 640)\n",
      "Results saved to \u001b[1myolov5/runs/detect/exp5\u001b[0m\n",
      "\n",
      "명령어 실행 성공\n",
      "결과 디렉토리 경로: \\x1b[1myolov5/runs/detect/exp5\\x1b[0m\\n\"\n",
      "결과 디렉토리 경로: yolov5/runs/detect/exp5\n"
     ]
    },
    {
     "ename": "TypeError",
     "evalue": "expected string or bytes-like object",
     "output_type": "error",
     "traceback": [
      "\u001b[0;31m---------------------------------------------------------------------------\u001b[0m",
      "\u001b[0;31mTypeError\u001b[0m                                 Traceback (most recent call last)",
      "Cell \u001b[0;32mIn[32], line 54\u001b[0m\n\u001b[1;32m     52\u001b[0m \u001b[38;5;66;03m# 함수 호출 예시\u001b[39;00m\n\u001b[1;32m     53\u001b[0m image_path \u001b[38;5;241m=\u001b[39m \u001b[38;5;124m'\u001b[39m\u001b[38;5;124m./yolo_test/val4.png\u001b[39m\u001b[38;5;124m'\u001b[39m\n\u001b[0;32m---> 54\u001b[0m \u001b[43myolo_detect\u001b[49m\u001b[43m(\u001b[49m\u001b[43mimage_path\u001b[49m\u001b[43m)\u001b[49m\n",
      "Cell \u001b[0;32mIn[32], line 41\u001b[0m, in \u001b[0;36myolo_detect\u001b[0;34m(image_path)\u001b[0m\n\u001b[1;32m     37\u001b[0m     \u001b[38;5;28mprint\u001b[39m(\u001b[38;5;124m\"\u001b[39m\u001b[38;5;124m결과 디렉토리 경로를 찾을 수 없습니다.\u001b[39m\u001b[38;5;124m\"\u001b[39m)\n\u001b[1;32m     39\u001b[0m \u001b[38;5;66;03m# 약물 정보 추출\u001b[39;00m\n\u001b[1;32m     40\u001b[0m \u001b[38;5;66;03m# 숫자와 약물 이름의 패턴에 맞는 텍스트 추출\u001b[39;00m\n\u001b[0;32m---> 41\u001b[0m drug_info \u001b[38;5;241m=\u001b[39m \u001b[43mre\u001b[49m\u001b[38;5;241;43m.\u001b[39;49m\u001b[43mfindall\u001b[49m\u001b[43m(\u001b[49m\u001b[38;5;124;43mr\u001b[39;49m\u001b[38;5;124;43m'\u001b[39;49m\u001b[38;5;124;43m\\\u001b[39;49m\u001b[38;5;124;43md+ [가-힣\u001b[39;49m\u001b[38;5;124;43m\\\u001b[39;49m\u001b[38;5;124;43mw]+\u001b[39;49m\u001b[38;5;124;43m'\u001b[39;49m\u001b[43m,\u001b[49m\u001b[43m \u001b[49m\u001b[43mresult\u001b[49m\u001b[43m)\u001b[49m\n\u001b[1;32m     43\u001b[0m \u001b[38;5;28;01mif\u001b[39;00m drug_info:\n\u001b[1;32m     44\u001b[0m     \u001b[38;5;28mprint\u001b[39m(\u001b[38;5;124m\"\u001b[39m\u001b[38;5;124m추출된 약물 정보:\u001b[39m\u001b[38;5;124m\"\u001b[39m)\n",
      "File \u001b[0;32m~/anaconda3/envs/anomaly_detection/lib/python3.10/re.py:240\u001b[0m, in \u001b[0;36mfindall\u001b[0;34m(pattern, string, flags)\u001b[0m\n\u001b[1;32m    232\u001b[0m \u001b[38;5;28;01mdef\u001b[39;00m \u001b[38;5;21mfindall\u001b[39m(pattern, string, flags\u001b[38;5;241m=\u001b[39m\u001b[38;5;241m0\u001b[39m):\n\u001b[1;32m    233\u001b[0m \u001b[38;5;250m    \u001b[39m\u001b[38;5;124;03m\"\"\"Return a list of all non-overlapping matches in the string.\u001b[39;00m\n\u001b[1;32m    234\u001b[0m \n\u001b[1;32m    235\u001b[0m \u001b[38;5;124;03m    If one or more capturing groups are present in the pattern, return\u001b[39;00m\n\u001b[0;32m   (...)\u001b[0m\n\u001b[1;32m    238\u001b[0m \n\u001b[1;32m    239\u001b[0m \u001b[38;5;124;03m    Empty matches are included in the result.\"\"\"\u001b[39;00m\n\u001b[0;32m--> 240\u001b[0m     \u001b[38;5;28;01mreturn\u001b[39;00m \u001b[43m_compile\u001b[49m\u001b[43m(\u001b[49m\u001b[43mpattern\u001b[49m\u001b[43m,\u001b[49m\u001b[43m \u001b[49m\u001b[43mflags\u001b[49m\u001b[43m)\u001b[49m\u001b[38;5;241;43m.\u001b[39;49m\u001b[43mfindall\u001b[49m\u001b[43m(\u001b[49m\u001b[43mstring\u001b[49m\u001b[43m)\u001b[49m\n",
      "\u001b[0;31mTypeError\u001b[0m: expected string or bytes-like object"
     ]
    }
   ],
   "source": [
    "import subprocess\n",
    "import re\n",
    "\n",
    "def yolo_detect(image_path):\n",
    "    # YOLOv5 감지 명령어를 구성합니다\n",
    "    command = [\n",
    "        'python', './yolov5/detect.py',\n",
    "        '--weights', './yolov5/best.pt',\n",
    "        '--img', '640',\n",
    "        '--conf', '0.25',\n",
    "        '--source', image_path\n",
    "    ]\n",
    "    \n",
    "    # 명령어를 실행합니다\n",
    "    result = subprocess.run(command, capture_output=True, text=True)\n",
    "\n",
    "    print(str(result))\n",
    "    \n",
    "    # 명령어의 출력 결과를 확인할 수 있습니다\n",
    "    print(\"표준 출력:\", result.stdout)\n",
    "    print(\"표준 오류:\", result.stderr)\n",
    "    \n",
    "    # 명령어가 성공적으로 실행되었는지 확인합니다\n",
    "    if result.returncode == 0:\n",
    "        print(\"명령어 실행 성공\")\n",
    "    else:\n",
    "        print(\"명령어 실행 실패\")\n",
    "\n",
    "     # 'Results saved to' 이후의 경로를 추출합니다\n",
    "    if 'Results saved to' in str(result):\n",
    "        start_idx = str(result).find('Results saved to') + len('Results saved to ')\n",
    "        end_idx = str(result).find('\\n', start_idx)\n",
    "        results_path = str(result)[start_idx:end_idx].strip()\n",
    "        print(\"결과 디렉토리 경로:\", results_path)\n",
    "        print(\"결과 디렉토리 경로:\", results_path[7:-10])\n",
    "    else:\n",
    "        print(\"결과 디렉토리 경로를 찾을 수 없습니다.\")\n",
    "\n",
    "    # 약물 정보 추출\n",
    "    # 숫자와 약물 이름의 패턴에 맞는 텍스트 추출\n",
    "    drug_info = re.findall(r'\\d+ [가-힣\\w]+', result)\n",
    "    \n",
    "    if drug_info:\n",
    "        print(\"추출된 약물 정보:\")\n",
    "        for drug in drug_info:\n",
    "            print(drug)\n",
    "    else:\n",
    "        print(\"약물 정보를 찾을 수 없습니다.\")\n",
    "\n",
    "    return results_path[7:-10]\n",
    "\n",
    "# 함수 호출 예시\n",
    "image_path = './yolo_test/val4.png'\n",
    "yolo_detect(image_path)\n",
    "\n",
    "\n"
   ]
  },
  {
   "cell_type": "code",
   "execution_count": 37,
   "metadata": {},
   "outputs": [
    {
     "name": "stdout",
     "output_type": "stream",
     "text": [
      "명령어 전체 출력: CompletedProcess(args=['python', './yolov5/detect.py', '--weights', './yolov5/best.pt', '--img', '640', '--conf', '0.25', '--source', './yolo_test/val4.png'], returncode=0, stdout='', stderr=\"\\x1b[34m\\x1b[1mdetect: \\x1b[0mweights=['./yolov5/best.pt'], source=./yolo_test/val4.png, data=yolov5/data/coco128.yaml, imgsz=[640, 640], conf_thres=0.25, iou_thres=0.45, max_det=1000, device=, view_img=False, save_txt=False, save_csv=False, save_conf=False, save_crop=False, nosave=False, classes=None, agnostic_nms=False, augment=False, visualize=False, update=False, project=yolov5/runs/detect, name=exp, exist_ok=False, line_thickness=3, hide_labels=False, hide_conf=False, half=False, dnn=False, vid_stride=1\\nYOLOv5 🚀 v7.0-356-g2070b303 Python-3.10.14 torch-2.4.0 CPU\\n\\nFusing layers... \\nYOLOv5s summary: 157 layers, 7072156 parameters, 0 gradients, 15.9 GFLOPs\\nimage 1/1 /Users/seyeong/workspace/backend_drugmaster/drugmaster/yolo_test/val4.png: 640x640 1 경동파니틴정, 1 동성라베프라졸정, 1 멀티큐텐플러스정, 1 세바코에이치씨티정10, 1 티뮤즈연질캡슐, 93.6ms\\nSpeed: 0.6ms pre-process, 93.6ms inference, 0.7ms NMS per image at shape (1, 3, 640, 640)\\nResults saved to \\x1b[1myolov5/runs/detect/exp10\\x1b[0m\\n\")\n",
      "명령어 실행 성공\n",
      "결과 디렉토리 경로: \\x1b[1myolov5/runs/detect/exp10\\x1b[0m\\n\")\n",
      "추출된 약물 정보:\n",
      "1 경동파니틴정\n",
      "1 동성라베프라졸정\n",
      "1 멀티큐텐플러스정\n",
      "1 세바코에이치씨티정\n",
      "1 티뮤즈연질캡슐\n",
      "('yolov5/runs/detect/exp10', ['1 경동파니틴정', '1 동성라베프라졸정', '1 멀티큐텐플러스정', '1 세바코에이치씨티정', '1 티뮤즈연질캡슐'])\n"
     ]
    }
   ],
   "source": [
    "import subprocess\n",
    "import re\n",
    "\n",
    "def yolo_detect(image_path):\n",
    "    # YOLOv5 감지 명령어를 구성합니다\n",
    "    command = [\n",
    "        'python', './yolov5/detect.py',\n",
    "        '--weights', './yolov5/best.pt',\n",
    "        '--img', '640',\n",
    "        '--conf', '0.25',\n",
    "        '--source', image_path\n",
    "    ]\n",
    "    \n",
    "    # 명령어를 실행합니다\n",
    "    result = subprocess.run(command, capture_output=True, text=True)\n",
    "\n",
    "    # 명령어의 전체 출력 확인\n",
    "    result_str = str(result)\n",
    "\n",
    "    # 명령어의 출력 결과를 확인할 수 있습니다\n",
    "    print(\"명령어 전체 출력:\", result_str)\n",
    "    \n",
    "    # 명령어가 성공적으로 실행되었는지 확인합니다\n",
    "    if result.returncode == 0:\n",
    "        print(\"명령어 실행 성공\")\n",
    "    else:\n",
    "        print(\"명령어 실행 실패\")\n",
    "        return None\n",
    "\n",
    "    # 'Results saved to' 이후의 경로를 추출\n",
    "    match = re.search(r'Results saved to (.+)', result_str)\n",
    "    if match:\n",
    "        results_path = match.group(1).strip()\n",
    "        print(\"결과 디렉토리 경로:\", results_path)\n",
    "    else:\n",
    "        print(\"결과 디렉토리 경로를 찾을 수 없습니다.\")\n",
    "        return None\n",
    "\n",
    "    # 약물 정보 추출\n",
    "    drug_info = re.findall(r'\\d+ [가-힣]+', result_str)\n",
    "    \n",
    "    if drug_info:\n",
    "        print(\"추출된 약물 정보:\")\n",
    "        for drug in drug_info:\n",
    "            print(drug)\n",
    "    else:\n",
    "        print(\"약물 정보를 찾을 수 없습니다.\")\n",
    "\n",
    "    return results_path[7:-11], drug_info\n",
    "\n",
    "# 함수 호출 예시\n",
    "image_path = './yolo_test/val4.png'\n",
    "a = yolo_detect(image_path)\n",
    "print(a)\n"
   ]
  }
 ],
 "metadata": {
  "kernelspec": {
   "display_name": "anomaly_detection",
   "language": "python",
   "name": "python3"
  },
  "language_info": {
   "codemirror_mode": {
    "name": "ipython",
    "version": 3
   },
   "file_extension": ".py",
   "mimetype": "text/x-python",
   "name": "python",
   "nbconvert_exporter": "python",
   "pygments_lexer": "ipython3",
   "version": "3.10.14"
  }
 },
 "nbformat": 4,
 "nbformat_minor": 2
}
